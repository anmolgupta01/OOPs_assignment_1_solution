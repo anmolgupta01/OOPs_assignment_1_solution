{
 "cells": [
  {
   "cell_type": "markdown",
   "id": "d1d42f0c",
   "metadata": {},
   "source": [
    "Q1. Explain Class and Object with respect to Object-Oriented Programming. Give a suitable example.\n",
    "\n",
    "ANSWER] In object-oriented programming (OOP), a class and an object are fundamental concepts used to model real-world entities and their behaviors. They provide a way to structure and organize code by encapsulating data (attributes) and methods (functions) that operate on that data into reusable units.\n",
    "\n",
    "Class:\n",
    "A class is a blueprint or a template for creating objects. It defines the attributes (data) and methods (functions) that the objects of that class will have.\n",
    "\n",
    "Object:\n",
    "An object is an instance of a class. It's a representation created from the blueprint provided by the class. Objects have their own unique data and can perform methods defined by the class. Each object created from a class is independent and can maintain its own state while still adhering to the overall structure defined by the class."
   ]
  },
  {
   "cell_type": "code",
   "execution_count": 14,
   "id": "5913f843",
   "metadata": {},
   "outputs": [
    {
     "data": {
      "text/plain": [
       "('Btech', 8318076180, '21scse1180264')"
      ]
     },
     "execution_count": 14,
     "metadata": {},
     "output_type": "execute_result"
    }
   ],
   "source": [
    "#EXAMPLE\n",
    "#creating class employee\n",
    "class employee:\n",
    "    def __init__(self,qualification,phone_number,reg_no):\n",
    "        self.qualification = qualification\n",
    "        self.phone_number = phone_number\n",
    "        self.reg_no = reg_no\n",
    "    \n",
    "    def get_information(self):\n",
    "        return self.qualification,self.phone_number,self.reg_no\n",
    "#creating a object named as anmol       \n",
    "anmol = employee(\"Btech\",8318076180,\"21scse1180264\")\n",
    "type(anmol)\n",
    "anmol.get_information()"
   ]
  },
  {
   "cell_type": "markdown",
   "id": "0477c1d7",
   "metadata": {},
   "source": [
    "Q2. Name the four pillars of OOPs.\n"
   ]
  },
  {
   "cell_type": "markdown",
   "id": "65b25d69",
   "metadata": {},
   "source": [
    "ANSWER] The four pillars of Object-Oriented Programming (OOP) are:\n",
    "\n",
    "Encapsulation: Encapsulation refers to the bundling of data (attributes) and the methods (functions) that operate on the data into a single unit called a class. This concept helps in hiding the internal details of an object and only exposing necessary functionalities to the outside world. It promotes data privacy and modularity.\n",
    "\n",
    "Abstraction: Abstraction involves representing complex real-world entities using simplified models in code. It allows developers to focus on the essential characteristics and behaviors of an object while ignoring the irrelevant details. Abstraction helps in managing complexity and making code more understandable and maintainable.\n",
    "\n",
    "Inheritance: Inheritance enables a new class (called the derived or subclass) to inherit properties and behaviors from an existing class (called the base or superclass). This promotes code reuse and hierarchy. The derived class can extend or override the attributes and methods of the base class, allowing for specialization and customization.\n",
    "\n",
    "Polymorphism: Polymorphism allows objects of different classes to be treated as objects of a common superclass. It enables the use of a single interface to represent various types of objects. Polymorphism is achieved through method overriding and method overloading, allowing different classes to provide different implementations of the same method name or having multiple methods with the same name but different parameters."
   ]
  },
  {
   "cell_type": "markdown",
   "id": "e55a6cf1",
   "metadata": {},
   "source": [
    "Q3. Explain why the __init__() function is used. Give a suitable example.\n"
   ]
  },
  {
   "cell_type": "markdown",
   "id": "1b8256b9",
   "metadata": {},
   "source": [
    "ANSWER]  The __init__() function is a special method in Python that is used as a constructor for initializing the attributes of an object when it is created from a class. It stands for \"initialize\" and is automatically called when a new instance (object) of a class is created. The primary purpose of the __init__() function is to set up the initial state of an object by assigning values to its attributes."
   ]
  },
  {
   "cell_type": "code",
   "execution_count": 16,
   "id": "eb73ab31",
   "metadata": {},
   "outputs": [
    {
     "data": {
      "text/plain": [
       "8318076180"
      ]
     },
     "execution_count": 16,
     "metadata": {},
     "output_type": "execute_result"
    }
   ],
   "source": [
    "#EXAMPLE\n",
    "#creating class employee\n",
    "class employee:\n",
    "    def __init__(self,qualification,phone_number,reg_no):\n",
    "        self.qualification = qualification\n",
    "        self.phone_number = phone_number\n",
    "        self.reg_no = reg_no\n",
    "    \n",
    "    def get_information(self):\n",
    "        return self.qualification,self.phone_number,self.reg_no\n",
    "#creating a object named as anmol       \n",
    "anmol = employee(\"Btech\",8318076180,\"21scse1180264\")\n",
    "type(anmol)\n",
    "anmol.phone_number"
   ]
  },
  {
   "cell_type": "markdown",
   "id": "34fc1411",
   "metadata": {},
   "source": [
    "Q4. Why self is used in OOPs?"
   ]
  },
  {
   "cell_type": "markdown",
   "id": "99fa61f8",
   "metadata": {},
   "source": [
    "ANSWER] self is a conventionally used name for a parameter that refers to the instance of the class itself. It is a reference to the object on which a method is being called. The use of self is a way to access and manipulate the attributes and methods of the instance within its own methods.\n",
    "\n",
    "When we define a method within a class, we need a way to refer to the instance of the class that the method is being called on. This is where self comes into play. By convention, the first parameter of instance methods in Python is named self, although you could technically name it anything you like. However, using self is a widely accepted practice and makes your code more understandable to other programmers who are familiar with Python.\n",
    "\n",
    "self is not a reserved keyword.\n",
    "\n",
    "Here's why self is used in OOP:\n",
    "\n",
    "Accessing Instance Members: When a method is called on an instance, you often want to access its attributes and other methods. Using self allows you to refer to the instance's own attributes and methods.\n",
    "\n",
    "Maintaining State: Objects often need to maintain state (data) unique to each instance. self allows you to set and retrieve instance-specific data.\n",
    "\n",
    "Enabling Method Invocation: By using self, you can invoke other methods on the same object. This enables the object to perform multiple actions as part of a single method call.\n",
    "\n",
    "Differentiating Between Local and Instance Variables: Using self helps differentiate instance variables (attributes) from local variables within methods. This clarity is essential, especially when there might be variables with the same name in different scopes."
   ]
  },
  {
   "cell_type": "markdown",
   "id": "2bd0ad2e",
   "metadata": {},
   "source": [
    "Q5. What is inheritance? Give an example for each type of inheritance."
   ]
  },
  {
   "cell_type": "markdown",
   "id": "77ea3c00",
   "metadata": {},
   "source": [
    "ANSWER] Inheritance is a fundamental concept in object-oriented programming (OOP) that allows a new class to inherit properties and behaviors (i.e., attributes and methods) from an existing class. The existing class is referred to as the base class or superclass, while the new class is called the derived class or subclass. Inheritance promotes code reuse, modularity, and the creation of hierarchical relationships between classes.\n",
    "\n",
    "There are several types of inheritance:\n",
    "\n",
    "1] Single Inheritance: In this type of inheritance, a derived class inherits properties and behaviors from a single base class.\n",
    "\n",
    "2]Multiple Inheritance: In multiple inheritance, a derived class inherits properties and behaviors from multiple base classes.\n",
    "\n",
    "3]Multilevel Inheritance: In this type of inheritance, a derived class becomes the base class for another class.\n",
    "\n",
    "4]Hierarchical Inheritance: Hierarchical inheritance involves multiple derived classes inheriting from a single base class.\n",
    "\n",
    "5]Hybrid (Combination) Inheritance: Hybrid inheritance is a combination of different types of inheritance. It can involve multiple inheritance, multilevel inheritance, or both.\n"
   ]
  },
  {
   "cell_type": "code",
   "execution_count": 2,
   "id": "377cce3d",
   "metadata": {},
   "outputs": [],
   "source": [
    "#single inheritance example\n",
    "\n",
    "class animal:\n",
    "    def make_noise(self):\n",
    "        pass\n",
    "class dog(animal):\n",
    "    def make_noise(self):\n",
    "        print(\"barking\")\n",
    "        return make_noise"
   ]
  },
  {
   "cell_type": "code",
   "execution_count": 16,
   "id": "a1b55f79",
   "metadata": {},
   "outputs": [
    {
     "name": "stdout",
     "output_type": "stream",
     "text": [
      "6 feet\n"
     ]
    },
    {
     "data": {
      "text/plain": [
       "'fair'"
      ]
     },
     "execution_count": 16,
     "metadata": {},
     "output_type": "execute_result"
    }
   ],
   "source": [
    "#Multiple inheritance\n",
    "class grandparent:\n",
    "    def height(self):\n",
    "        print(\"6 feet\")\n",
    "\n",
    "class parent():\n",
    "    def color(self):\n",
    "        return(\"fair\")\n",
    "\n",
    "class Child(grandparent,parent):\n",
    "    def method3(self):\n",
    "        pass\n",
    "anmol = Child()\n",
    "anmol.height()\n",
    "anmol.color()"
   ]
  },
  {
   "cell_type": "code",
   "execution_count": 14,
   "id": "72d23ec2",
   "metadata": {},
   "outputs": [
    {
     "name": "stdout",
     "output_type": "stream",
     "text": [
      "6 feet\n"
     ]
    },
    {
     "data": {
      "text/plain": [
       "'fair'"
      ]
     },
     "execution_count": 14,
     "metadata": {},
     "output_type": "execute_result"
    }
   ],
   "source": [
    "#multilevel inheritance\n",
    "class grandparent:\n",
    "    def height(self):\n",
    "        print(\"6 feet\")\n",
    "\n",
    "class parent(grandparent):\n",
    "    def color(self):\n",
    "        return(\"fair\")\n",
    "\n",
    "class Child(parent):\n",
    "    def method3(self):\n",
    "        pass\n",
    "anmol = Child()\n",
    "anmol.height()\n",
    "anmol.color()"
   ]
  },
  {
   "cell_type": "code",
   "execution_count": 15,
   "id": "0aeb6d4c",
   "metadata": {},
   "outputs": [
    {
     "data": {
      "text/plain": [
       "'Drawing a triangle.'"
      ]
     },
     "execution_count": 15,
     "metadata": {},
     "output_type": "execute_result"
    }
   ],
   "source": [
    "#hierarchical inheritance\n",
    "class Shape:\n",
    "    def draw(self):\n",
    "        pass\n",
    "\n",
    "class Circle(Shape):\n",
    "    def draw(self):\n",
    "        return \"Drawing a circle.\"\n",
    "\n",
    "class Square(Shape):\n",
    "    def draw(self):\n",
    "        return \"Drawing a square.\"\n",
    "\n",
    "class Triangle(Shape):\n",
    "    def draw(self):\n",
    "        return \"Drawing a triangle.\"\n",
    "    \n",
    "a = Triangle()\n",
    "a.draw()"
   ]
  },
  {
   "cell_type": "code",
   "execution_count": 25,
   "id": "047e7eb9",
   "metadata": {},
   "outputs": [
    {
     "name": "stdout",
     "output_type": "stream",
     "text": [
      "angry\n"
     ]
    },
    {
     "data": {
      "text/plain": [
       "'fair'"
      ]
     },
     "execution_count": 25,
     "metadata": {},
     "output_type": "execute_result"
    }
   ],
   "source": [
    "#hybrid inheritance\n",
    "class grandparent:\n",
    "    def height(self):\n",
    "        print(\"6 feet\")\n",
    "\n",
    "class parent(grandparent):\n",
    "    def color(self):\n",
    "        return(\"fair\")\n",
    "\n",
    "class Child(grandparent):\n",
    "    def nature(self):\n",
    "        print(\"angry\")\n",
    "class child_of_child(parent,Child):\n",
    "    def method(self):\n",
    "        pass\n",
    "mahima = child_of_child()\n",
    "mahima.nature()\n",
    "mahima.color()"
   ]
  },
  {
   "cell_type": "code",
   "execution_count": null,
   "id": "8ff09b0b",
   "metadata": {},
   "outputs": [],
   "source": []
  }
 ],
 "metadata": {
  "kernelspec": {
   "display_name": "Python 3 (ipykernel)",
   "language": "python",
   "name": "python3"
  },
  "language_info": {
   "codemirror_mode": {
    "name": "ipython",
    "version": 3
   },
   "file_extension": ".py",
   "mimetype": "text/x-python",
   "name": "python",
   "nbconvert_exporter": "python",
   "pygments_lexer": "ipython3",
   "version": "3.11.4"
  }
 },
 "nbformat": 4,
 "nbformat_minor": 5
}
